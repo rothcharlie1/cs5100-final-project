{
 "cells": [
  {
   "cell_type": "code",
   "execution_count": 390,
   "metadata": {},
   "outputs": [],
   "source": [
    "import pandas as pd"
   ]
  },
  {
   "cell_type": "code",
   "execution_count": 391,
   "metadata": {},
   "outputs": [],
   "source": [
    "j = 20"
   ]
  },
  {
   "cell_type": "code",
   "execution_count": 392,
   "metadata": {},
   "outputs": [],
   "source": [
    "day_quotes = pd.read_csv(f'ES_ALL_QUOTES/es_{j}.csv')"
   ]
  },
  {
   "cell_type": "code",
   "execution_count": 393,
   "metadata": {},
   "outputs": [],
   "source": [
    "# convert all futures prices to spot prices using a risk free rate of 2.7% (computed from sample data)\n",
    "rate_factor = (15-j) / 365 if j < 15 else (107-j) / 365\n",
    "day_quotes['Ask Price'] = day_quotes['Ask Price'] / (1+0.027*rate_factor)"
   ]
  },
  {
   "cell_type": "code",
   "execution_count": 394,
   "metadata": {},
   "outputs": [],
   "source": [
    "day_quotes['Bid Price'] = day_quotes['Bid Price'] / (1+0.027*rate_factor)"
   ]
  },
  {
   "cell_type": "code",
   "execution_count": 395,
   "metadata": {},
   "outputs": [],
   "source": [
    "day_quotes['Time'] = day_quotes['Time'].apply(lambda x: x + \"000\")\n",
    "day_quotes.Time = pd.to_datetime(day_quotes.Time, format=\"%H:%M:%S.%f\")"
   ]
  },
  {
   "cell_type": "code",
   "execution_count": 396,
   "metadata": {},
   "outputs": [],
   "source": [
    "# shorten futures trading day to real trading day\n",
    "day_quotes = day_quotes[(day_quotes['Time'] > '1900-01-01 09:30:00.000') & (day_quotes['Time'] < '1900-01-01 16:00:00.000')]"
   ]
  },
  {
   "cell_type": "code",
   "execution_count": 397,
   "metadata": {},
   "outputs": [
    {
     "data": {
      "text/html": [
       "<div>\n",
       "<style scoped>\n",
       "    .dataframe tbody tr th:only-of-type {\n",
       "        vertical-align: middle;\n",
       "    }\n",
       "\n",
       "    .dataframe tbody tr th {\n",
       "        vertical-align: top;\n",
       "    }\n",
       "\n",
       "    .dataframe thead th {\n",
       "        text-align: right;\n",
       "    }\n",
       "</style>\n",
       "<table border=\"1\" class=\"dataframe\">\n",
       "  <thead>\n",
       "    <tr style=\"text-align: right;\">\n",
       "      <th></th>\n",
       "      <th>Unnamed: 0</th>\n",
       "      <th>Symbol</th>\n",
       "      <th>Date</th>\n",
       "      <th>Time</th>\n",
       "      <th>Bid Price</th>\n",
       "      <th>Bid Size</th>\n",
       "      <th>Ask Price</th>\n",
       "      <th>Ask Size</th>\n",
       "      <th>Market Flag</th>\n",
       "      <th>Quote Condition</th>\n",
       "    </tr>\n",
       "  </thead>\n",
       "  <tbody>\n",
       "    <tr>\n",
       "      <td>696967</td>\n",
       "      <td>20483824</td>\n",
       "      <td>ESZ13</td>\n",
       "      <td>09/20/2013</td>\n",
       "      <td>1900-01-01 09:30:00.006</td>\n",
       "      <td>1703.039888</td>\n",
       "      <td>360</td>\n",
       "      <td>1703.288290</td>\n",
       "      <td>557</td>\n",
       "      <td>E</td>\n",
       "      <td>NaN</td>\n",
       "    </tr>\n",
       "    <tr>\n",
       "      <td>696968</td>\n",
       "      <td>20483825</td>\n",
       "      <td>ESZ13</td>\n",
       "      <td>09/20/2013</td>\n",
       "      <td>1900-01-01 09:30:00.045</td>\n",
       "      <td>1703.039888</td>\n",
       "      <td>357</td>\n",
       "      <td>1703.288290</td>\n",
       "      <td>557</td>\n",
       "      <td>E</td>\n",
       "      <td>NaN</td>\n",
       "    </tr>\n",
       "    <tr>\n",
       "      <td>696969</td>\n",
       "      <td>20483826</td>\n",
       "      <td>ESZ13</td>\n",
       "      <td>09/20/2013</td>\n",
       "      <td>1900-01-01 09:30:00.054</td>\n",
       "      <td>1703.039888</td>\n",
       "      <td>358</td>\n",
       "      <td>1703.288290</td>\n",
       "      <td>557</td>\n",
       "      <td>E</td>\n",
       "      <td>NaN</td>\n",
       "    </tr>\n",
       "    <tr>\n",
       "      <td>696970</td>\n",
       "      <td>20483827</td>\n",
       "      <td>ESZ13</td>\n",
       "      <td>09/20/2013</td>\n",
       "      <td>1900-01-01 09:30:00.074</td>\n",
       "      <td>1703.039888</td>\n",
       "      <td>367</td>\n",
       "      <td>1703.288290</td>\n",
       "      <td>557</td>\n",
       "      <td>E</td>\n",
       "      <td>NaN</td>\n",
       "    </tr>\n",
       "    <tr>\n",
       "      <td>696971</td>\n",
       "      <td>20483828</td>\n",
       "      <td>ESZ13</td>\n",
       "      <td>09/20/2013</td>\n",
       "      <td>1900-01-01 09:30:00.074</td>\n",
       "      <td>1703.039888</td>\n",
       "      <td>368</td>\n",
       "      <td>1703.288290</td>\n",
       "      <td>557</td>\n",
       "      <td>E</td>\n",
       "      <td>NaN</td>\n",
       "    </tr>\n",
       "    <tr>\n",
       "      <td>...</td>\n",
       "      <td>...</td>\n",
       "      <td>...</td>\n",
       "      <td>...</td>\n",
       "      <td>...</td>\n",
       "      <td>...</td>\n",
       "      <td>...</td>\n",
       "      <td>...</td>\n",
       "      <td>...</td>\n",
       "      <td>...</td>\n",
       "      <td>...</td>\n",
       "    </tr>\n",
       "    <tr>\n",
       "      <td>1614938</td>\n",
       "      <td>21401795</td>\n",
       "      <td>ESZ13</td>\n",
       "      <td>09/20/2013</td>\n",
       "      <td>1900-01-01 15:59:54.750</td>\n",
       "      <td>1693.352235</td>\n",
       "      <td>42</td>\n",
       "      <td>1693.600636</td>\n",
       "      <td>154</td>\n",
       "      <td>E</td>\n",
       "      <td>NaN</td>\n",
       "    </tr>\n",
       "    <tr>\n",
       "      <td>1614939</td>\n",
       "      <td>21401796</td>\n",
       "      <td>ESZ13</td>\n",
       "      <td>09/20/2013</td>\n",
       "      <td>1900-01-01 15:59:54.750</td>\n",
       "      <td>1693.352235</td>\n",
       "      <td>42</td>\n",
       "      <td>1693.600636</td>\n",
       "      <td>152</td>\n",
       "      <td>E</td>\n",
       "      <td>NaN</td>\n",
       "    </tr>\n",
       "    <tr>\n",
       "      <td>1614940</td>\n",
       "      <td>21401797</td>\n",
       "      <td>ESZ13</td>\n",
       "      <td>09/20/2013</td>\n",
       "      <td>1900-01-01 15:59:56.083</td>\n",
       "      <td>1693.352235</td>\n",
       "      <td>41</td>\n",
       "      <td>1693.600636</td>\n",
       "      <td>152</td>\n",
       "      <td>E</td>\n",
       "      <td>NaN</td>\n",
       "    </tr>\n",
       "    <tr>\n",
       "      <td>1614941</td>\n",
       "      <td>21401798</td>\n",
       "      <td>ESZ13</td>\n",
       "      <td>09/20/2013</td>\n",
       "      <td>1900-01-01 15:59:57.471</td>\n",
       "      <td>1693.352235</td>\n",
       "      <td>41</td>\n",
       "      <td>1693.600636</td>\n",
       "      <td>153</td>\n",
       "      <td>E</td>\n",
       "      <td>NaN</td>\n",
       "    </tr>\n",
       "    <tr>\n",
       "      <td>1614942</td>\n",
       "      <td>21401799</td>\n",
       "      <td>ESZ13</td>\n",
       "      <td>09/20/2013</td>\n",
       "      <td>1900-01-01 15:59:59.926</td>\n",
       "      <td>1693.352235</td>\n",
       "      <td>39</td>\n",
       "      <td>1693.600636</td>\n",
       "      <td>153</td>\n",
       "      <td>E</td>\n",
       "      <td>NaN</td>\n",
       "    </tr>\n",
       "  </tbody>\n",
       "</table>\n",
       "<p>917976 rows × 10 columns</p>\n",
       "</div>"
      ],
      "text/plain": [
       "         Unnamed: 0 Symbol        Date                    Time    Bid Price  \\\n",
       "696967     20483824  ESZ13  09/20/2013 1900-01-01 09:30:00.006  1703.039888   \n",
       "696968     20483825  ESZ13  09/20/2013 1900-01-01 09:30:00.045  1703.039888   \n",
       "696969     20483826  ESZ13  09/20/2013 1900-01-01 09:30:00.054  1703.039888   \n",
       "696970     20483827  ESZ13  09/20/2013 1900-01-01 09:30:00.074  1703.039888   \n",
       "696971     20483828  ESZ13  09/20/2013 1900-01-01 09:30:00.074  1703.039888   \n",
       "...             ...    ...         ...                     ...          ...   \n",
       "1614938    21401795  ESZ13  09/20/2013 1900-01-01 15:59:54.750  1693.352235   \n",
       "1614939    21401796  ESZ13  09/20/2013 1900-01-01 15:59:54.750  1693.352235   \n",
       "1614940    21401797  ESZ13  09/20/2013 1900-01-01 15:59:56.083  1693.352235   \n",
       "1614941    21401798  ESZ13  09/20/2013 1900-01-01 15:59:57.471  1693.352235   \n",
       "1614942    21401799  ESZ13  09/20/2013 1900-01-01 15:59:59.926  1693.352235   \n",
       "\n",
       "         Bid Size    Ask Price  Ask Size Market Flag  Quote Condition  \n",
       "696967        360  1703.288290       557           E              NaN  \n",
       "696968        357  1703.288290       557           E              NaN  \n",
       "696969        358  1703.288290       557           E              NaN  \n",
       "696970        367  1703.288290       557           E              NaN  \n",
       "696971        368  1703.288290       557           E              NaN  \n",
       "...           ...          ...       ...         ...              ...  \n",
       "1614938        42  1693.600636       154           E              NaN  \n",
       "1614939        42  1693.600636       152           E              NaN  \n",
       "1614940        41  1693.600636       152           E              NaN  \n",
       "1614941        41  1693.600636       153           E              NaN  \n",
       "1614942        39  1693.600636       153           E              NaN  \n",
       "\n",
       "[917976 rows x 10 columns]"
      ]
     },
     "execution_count": 397,
     "metadata": {},
     "output_type": "execute_result"
    }
   ],
   "source": [
    "day_quotes"
   ]
  },
  {
   "cell_type": "code",
   "execution_count": 398,
   "metadata": {},
   "outputs": [],
   "source": [
    "column_names = [f\"d{i+1}\" for i in range(59)]\n",
    "column_names.append(\"spot\")\n"
   ]
  },
  {
   "cell_type": "code",
   "execution_count": 399,
   "metadata": {},
   "outputs": [],
   "source": [
    "spx = pd.read_csv(f'SPX_1MIN_HIST/spx_{j}.csv')"
   ]
  },
  {
   "cell_type": "code",
   "execution_count": 400,
   "metadata": {},
   "outputs": [],
   "source": [
    "spx = spx.drop(columns=['Unnamed: 0'])"
   ]
  },
  {
   "cell_type": "code",
   "execution_count": 401,
   "metadata": {},
   "outputs": [],
   "source": [
    "# format: 2013-09-03 09:30:00\n",
    "spx.datetime = pd.to_datetime(spx.datetime, format=\"%Y-%m-%d %H:%M:%S\")"
   ]
  },
  {
   "cell_type": "code",
   "execution_count": 402,
   "metadata": {},
   "outputs": [
    {
     "data": {
      "text/plain": [
       "1723.7"
      ]
     },
     "execution_count": 402,
     "metadata": {},
     "output_type": "execute_result"
    }
   ],
   "source": [
    "float(spx[spx.datetime == pd.Timestamp(2013, 9, j, 9, 30)][' close'])\n"
   ]
  },
  {
   "cell_type": "code",
   "execution_count": 403,
   "metadata": {},
   "outputs": [
    {
     "data": {
      "text/plain": [
       "Timedelta('41516 days 00:00:00')"
      ]
     },
     "execution_count": 403,
     "metadata": {},
     "output_type": "execute_result"
    }
   ],
   "source": [
    "pd.Timestamp(2013, 9, 1) - pd.Timestamp(1900, 1, 1)"
   ]
  },
  {
   "cell_type": "code",
   "execution_count": 404,
   "metadata": {},
   "outputs": [],
   "source": [
    "day_quotes['Time'] = day_quotes['Time'] + pd.Timedelta(41515+j, 'days')"
   ]
  },
  {
   "cell_type": "code",
   "execution_count": 405,
   "metadata": {},
   "outputs": [
    {
     "data": {
      "text/plain": [
       "1703.2882898823736"
      ]
     },
     "execution_count": 405,
     "metadata": {},
     "output_type": "execute_result"
    }
   ],
   "source": [
    "day_quotes['Ask Price'][day_quotes.index[0]]"
   ]
  },
  {
   "cell_type": "code",
   "execution_count": 406,
   "metadata": {},
   "outputs": [],
   "source": [
    "condensed_1s = []\n",
    "current_second_time = pd.Timestamp(2013, 9, j, 9, 30)\n",
    "current_minute_time = pd.Timestamp(2013, 9, j, 9, 30)\n",
    "start_px = (float(day_quotes['Ask Price'][day_quotes.index[0]]) + float(day_quotes['Bid Price'][day_quotes.index[0]])) / 2\n",
    "for i, row in day_quotes.iterrows():\n",
    "    # check if we are 59 seconds into the current minute\n",
    "    if current_second_time + pd.Timedelta(1000, 'millis') == current_minute_time + pd.Timedelta(60000, 'millis'):\n",
    "        # append spx price at current_minute_time + pd.Timedelta(60000, 'millis') to list\n",
    "        # update minute and second\n",
    "        current_minute_time = current_minute_time + pd.Timedelta(60000, 'millis')\n",
    "        spx_price = float(spx[spx.datetime == current_minute_time][' close'])\n",
    "        condensed_1s.append(spx_price - start_px)\n",
    "        current_second_time = current_second_time + pd.Timedelta(1000, 'millis')\n",
    "    elif row.Time > current_second_time + pd.Timedelta(1000, 'millis'):\n",
    "        mid_px = (float(day_quotes['Ask Price'][i-1]) + float(day_quotes['Bid Price'][i-1])) / 2\n",
    "        px_delta = mid_px - start_px\n",
    "        condensed_1s.append(px_delta)\n",
    "        current_second_time = current_second_time + pd.Timedelta(1000, 'millis')\n",
    "        start_px = mid_px\n"
   ]
  },
  {
   "cell_type": "code",
   "execution_count": 407,
   "metadata": {},
   "outputs": [
    {
     "data": {
      "text/plain": [
       "23358"
      ]
     },
     "execution_count": 407,
     "metadata": {},
     "output_type": "execute_result"
    }
   ],
   "source": [
    "len(condensed_1s)"
   ]
  },
  {
   "cell_type": "code",
   "execution_count": 408,
   "metadata": {},
   "outputs": [],
   "source": [
    "es_close_sequences = pd.DataFrame(columns=column_names, dtype=object)"
   ]
  },
  {
   "cell_type": "code",
   "execution_count": 409,
   "metadata": {},
   "outputs": [],
   "source": [
    "i = 0\n",
    "while i + 60 < len(condensed_1s): \n",
    "    es_close_sequences = es_close_sequences.append(pd.Series(condensed_1s[i:i+60], index=column_names), ignore_index=True)\n",
    "    i+=60"
   ]
  },
  {
   "cell_type": "code",
   "execution_count": 410,
   "metadata": {},
   "outputs": [
    {
     "data": {
      "text/plain": [
       "23358"
      ]
     },
     "execution_count": 410,
     "metadata": {},
     "output_type": "execute_result"
    }
   ],
   "source": [
    "len(condensed_1s)"
   ]
  },
  {
   "cell_type": "code",
   "execution_count": 411,
   "metadata": {},
   "outputs": [
    {
     "data": {
      "text/plain": [
       "15.921966168411927"
      ]
     },
     "execution_count": 411,
     "metadata": {},
     "output_type": "execute_result"
    }
   ],
   "source": [
    "min(es_close_sequences.spot)"
   ]
  },
  {
   "cell_type": "code",
   "execution_count": 412,
   "metadata": {},
   "outputs": [],
   "source": [
    "es_close_sequences.to_csv(f'cleaned_data/info_share/day{j}.csv')"
   ]
  },
  {
   "cell_type": "code",
   "execution_count": null,
   "metadata": {},
   "outputs": [],
   "source": []
  }
 ],
 "metadata": {
  "interpreter": {
   "hash": "aee094fbcebf3723d246997847463d458ed3326061a0ee2e7aa600f421b4f224"
  },
  "kernelspec": {
   "display_name": "Python 3.7.4 64-bit ('base': conda)",
   "language": "python",
   "name": "python3"
  },
  "language_info": {
   "codemirror_mode": {
    "name": "ipython",
    "version": 3
   },
   "file_extension": ".py",
   "mimetype": "text/x-python",
   "name": "python",
   "nbconvert_exporter": "python",
   "pygments_lexer": "ipython3",
   "version": "3.7.4"
  },
  "orig_nbformat": 4
 },
 "nbformat": 4,
 "nbformat_minor": 2
}
