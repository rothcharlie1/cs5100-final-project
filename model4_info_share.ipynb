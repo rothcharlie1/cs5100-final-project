{
 "cells": [
  {
   "cell_type": "code",
   "execution_count": 134,
   "metadata": {},
   "outputs": [],
   "source": [
    "import tensorflow as tf\n",
    "from tensorflow import keras\n",
    "from tensorflow.keras import layers\n",
    "\n"
   ]
  },
  {
   "cell_type": "code",
   "execution_count": 135,
   "metadata": {},
   "outputs": [],
   "source": [
    "import pandas as pd\n",
    "import numpy as np"
   ]
  },
  {
   "cell_type": "code",
   "execution_count": 136,
   "metadata": {},
   "outputs": [],
   "source": [
    "training_df = pd.read_csv('train/training2.csv')"
   ]
  },
  {
   "cell_type": "code",
   "execution_count": 137,
   "metadata": {},
   "outputs": [],
   "source": [
    "train_x = training_df.drop('spot', axis=1)\n",
    "train_x.drop(columns=['Unnamed: 0'], inplace=True)"
   ]
  },
  {
   "cell_type": "code",
   "execution_count": 138,
   "metadata": {},
   "outputs": [],
   "source": [
    "train_y = training_df['spot']"
   ]
  },
  {
   "cell_type": "code",
   "execution_count": 139,
   "metadata": {},
   "outputs": [],
   "source": [
    "train_y = train_y.to_numpy()"
   ]
  },
  {
   "cell_type": "code",
   "execution_count": 140,
   "metadata": {},
   "outputs": [],
   "source": [
    "train_x = train_x.to_numpy()"
   ]
  },
  {
   "cell_type": "code",
   "execution_count": 141,
   "metadata": {},
   "outputs": [],
   "source": [
    "test_df = pd.read_csv('test/testing2.csv')"
   ]
  },
  {
   "cell_type": "code",
   "execution_count": 142,
   "metadata": {},
   "outputs": [],
   "source": [
    "test_df.drop(columns=['Unnamed: 0'], inplace=True)"
   ]
  },
  {
   "cell_type": "code",
   "execution_count": 143,
   "metadata": {},
   "outputs": [],
   "source": [
    "test_y = test_df['spot'].to_numpy()"
   ]
  },
  {
   "cell_type": "code",
   "execution_count": 144,
   "metadata": {},
   "outputs": [
    {
     "data": {
      "text/plain": [
       "array([-2.22882834, -1.56115971, -1.27271453, ...,  0.03642771,\n",
       "       -0.11199389, -0.09962543])"
      ]
     },
     "execution_count": 144,
     "metadata": {},
     "output_type": "execute_result"
    }
   ],
   "source": [
    "import scipy.stats as ss\n",
    "\n",
    "test_y = ss.zscore(test_y)\n",
    "test_y"
   ]
  },
  {
   "cell_type": "code",
   "execution_count": 145,
   "metadata": {},
   "outputs": [],
   "source": [
    "train_y = ss.zscore(train_y)"
   ]
  },
  {
   "cell_type": "code",
   "execution_count": 115,
   "metadata": {},
   "outputs": [],
   "source": [
    "test_x = test_df.drop(columns=['spot']).to_numpy()"
   ]
  },
  {
   "cell_type": "code",
   "execution_count": 146,
   "metadata": {},
   "outputs": [],
   "source": [
    "# create a discretized state vector for each 25 cent increment\n",
    "# array positions (>=.75, .5-.75,.25-.5,0-.25, -.25-0, -.5--.25, -.75 - -.5, <= -.75)\n",
    "def convert_to_vec(listy):\n",
    "    ret_list = np.ndarray((len(listy), 8))\n",
    "    for i, y in enumerate(listy):\n",
    "        if y > 0:\n",
    "            if y <= 0.50:\n",
    "                ret_list[i] = np.array([0,0,0,1,0,0,0,0])\n",
    "            elif y <= 1:\n",
    "                ret_list[i] = np.array([0,0,1,0,0,0,0,0])\n",
    "            elif y < 1.5:\n",
    "                ret_list[i] = np.array([0,1,0,0,0,0,0,0])\n",
    "            else:\n",
    "                ret_list[i] = np.array([1,0,0,0,0,0,0,0])\n",
    "        else:\n",
    "            if y >= -0.5:\n",
    "                ret_list[i] = np.array([0,0,0,0,1,0,0,0])\n",
    "            elif y >= -1:\n",
    "                ret_list[i] = np.array([0,0,0,0,0,1,0,0])\n",
    "            elif y > -1.5:\n",
    "                ret_list[i] = np.array([0,0,0,0,0,0,1,0])\n",
    "            else:\n",
    "                ret_list[i] = np.array([0,0,0,0,0,0,0,1])\n",
    "    return ret_list"
   ]
  },
  {
   "cell_type": "code",
   "execution_count": 147,
   "metadata": {},
   "outputs": [],
   "source": [
    "test_y = convert_to_vec(test_y)\n",
    "train_y = convert_to_vec(train_y)"
   ]
  },
  {
   "cell_type": "markdown",
   "metadata": {},
   "source": [
    "We now have cleaned NP arrays for our training and testing inputs and outputs, so we begin constructing a Keras model."
   ]
  },
  {
   "cell_type": "code",
   "execution_count": 148,
   "metadata": {},
   "outputs": [
    {
     "name": "stdout",
     "output_type": "stream",
     "text": [
      "Model: \"sequential_6\"\n",
      "_________________________________________________________________\n",
      " Layer (type)                Output Shape              Param #   \n",
      "=================================================================\n",
      " hidden1 (Dense)             (None, 30)                1800      \n",
      "                                                                 \n",
      " hidden2 (Dense)             (None, 15)                465       \n",
      "                                                                 \n",
      " output (Dense)              (None, 8)                 128       \n",
      "                                                                 \n",
      "=================================================================\n",
      "Total params: 2,393\n",
      "Trainable params: 2,393\n",
      "Non-trainable params: 0\n",
      "_________________________________________________________________\n"
     ]
    }
   ],
   "source": [
    "model = keras.Sequential()\n",
    "model.add(keras.Input(shape=(59,), name='Timeseries'))\n",
    "model.add(layers.Dense(30, name=\"hidden1\", activation='relu'))\n",
    "model.add(layers.Dense(15, name='hidden2', activation='relu'))\n",
    "model.add(layers.Dense(8, name=\"output\", activation='softmax'))\n",
    "\n",
    "model.summary()\n",
    "\n"
   ]
  },
  {
   "cell_type": "code",
   "execution_count": 149,
   "metadata": {},
   "outputs": [
    {
     "data": {
      "image/png": "[encoded data removed]",
      "text/plain": [
       "<IPython.core.display.Image object>"
      ]
     },
     "execution_count": 149,
     "metadata": {},
     "output_type": "execute_result"
    }
   ],
   "source": [
    "keras.utils.plot_model(\n",
    "    model,\n",
    "    to_file=\"model.png\",\n",
    "    show_shapes=True,\n",
    "    show_dtype=False,\n",
    "    show_layer_names=True,\n",
    "    rankdir=\"TB\",\n",
    "    expand_nested=False,\n",
    "    dpi=96,\n",
    "    layer_range=None,\n",
    "    show_layer_activations=True,\n",
    ")"
   ]
  },
  {
   "cell_type": "code",
   "execution_count": 150,
   "metadata": {},
   "outputs": [
    {
     "data": {
      "text/plain": [
       "(2277, 59)"
      ]
     },
     "execution_count": 150,
     "metadata": {},
     "output_type": "execute_result"
    }
   ],
   "source": [
    "np.shape(train_x)"
   ]
  },
  {
   "cell_type": "code",
   "execution_count": 151,
   "metadata": {},
   "outputs": [],
   "source": [
    "# reserve ~10% for inter-epoch validation\n",
    "val_x = train_x[-200:]\n",
    "val_y = train_y[-200:]\n",
    "train_x = train_x[:-200]\n",
    "train_y = train_y[:-200]\n"
   ]
  },
  {
   "cell_type": "code",
   "execution_count": 152,
   "metadata": {},
   "outputs": [],
   "source": [
    "model.compile(\n",
    "    optimizer=keras.optimizers.SGD(), # stoch grad descent\n",
    "    loss=keras.losses.MeanSquaredError(), # MSE loss function to minimize\n",
    "    metrics=[keras.metrics.Accuracy()],\n",
    ")"
   ]
  },
  {
   "cell_type": "code",
   "execution_count": 153,
   "metadata": {},
   "outputs": [
    {
     "name": "stdout",
     "output_type": "stream",
     "text": [
      "Epoch 1/100\n",
      "42/42 [==============================] - 1s 5ms/step - loss: 0.1096 - accuracy: 0.0000e+00 - val_loss: 0.1093 - val_accuracy: 0.0000e+00\n",
      "Epoch 2/100\n",
      "42/42 [==============================] - 0s 2ms/step - loss: 0.1095 - accuracy: 0.0000e+00 - val_loss: 0.1093 - val_accuracy: 0.0000e+00\n",
      "Epoch 3/100\n",
      "42/42 [==============================] - 0s 3ms/step - loss: 0.1095 - accuracy: 0.0000e+00 - val_loss: 0.1093 - val_accuracy: 0.0000e+00\n",
      "Epoch 4/100\n",
      "42/42 [==============================] - 0s 3ms/step - loss: 0.1095 - accuracy: 0.0000e+00 - val_loss: 0.1093 - val_accuracy: 0.0000e+00\n",
      "Epoch 5/100\n",
      "42/42 [==============================] - 0s 2ms/step - loss: 0.1095 - accuracy: 0.0000e+00 - val_loss: 0.1092 - val_accuracy: 0.0000e+00\n",
      "Epoch 6/100\n",
      "42/42 [==============================] - 0s 3ms/step - loss: 0.1095 - accuracy: 0.0000e+00 - val_loss: 0.1092 - val_accuracy: 0.0000e+00\n",
      "Epoch 7/100\n",
      "42/42 [==============================] - 0s 3ms/step - loss: 0.1095 - accuracy: 0.0000e+00 - val_loss: 0.1092 - val_accuracy: 0.0000e+00\n",
      "Epoch 8/100\n",
      "42/42 [==============================] - 0s 3ms/step - loss: 0.1094 - accuracy: 0.0000e+00 - val_loss: 0.1092 - val_accuracy: 0.0000e+00\n",
      "Epoch 9/100\n",
      "42/42 [==============================] - 0s 3ms/step - loss: 0.1094 - accuracy: 0.0000e+00 - val_loss: 0.1092 - val_accuracy: 0.0000e+00\n",
      "Epoch 10/100\n",
      "42/42 [==============================] - 0s 3ms/step - loss: 0.1094 - accuracy: 0.0000e+00 - val_loss: 0.1091 - val_accuracy: 0.0000e+00\n",
      "Epoch 11/100\n",
      "42/42 [==============================] - 0s 2ms/step - loss: 0.1094 - accuracy: 0.0000e+00 - val_loss: 0.1091 - val_accuracy: 0.0000e+00\n",
      "Epoch 12/100\n",
      "42/42 [==============================] - 0s 3ms/step - loss: 0.1094 - accuracy: 0.0000e+00 - val_loss: 0.1091 - val_accuracy: 0.0000e+00\n",
      "Epoch 13/100\n",
      "42/42 [==============================] - 0s 2ms/step - loss: 0.1094 - accuracy: 0.0000e+00 - val_loss: 0.1091 - val_accuracy: 0.0000e+00\n",
      "Epoch 14/100\n",
      "42/42 [==============================] - 0s 2ms/step - loss: 0.1093 - accuracy: 0.0000e+00 - val_loss: 0.1090 - val_accuracy: 0.0000e+00\n",
      "Epoch 15/100\n",
      "42/42 [==============================] - 0s 3ms/step - loss: 0.1093 - accuracy: 0.0000e+00 - val_loss: 0.1090 - val_accuracy: 0.0000e+00\n",
      "Epoch 16/100\n",
      "42/42 [==============================] - 0s 2ms/step - loss: 0.1093 - accuracy: 0.0000e+00 - val_loss: 0.1090 - val_accuracy: 0.0000e+00\n",
      "Epoch 17/100\n",
      "42/42 [==============================] - 0s 2ms/step - loss: 0.1093 - accuracy: 0.0000e+00 - val_loss: 0.1090 - val_accuracy: 0.0000e+00\n",
      "Epoch 18/100\n",
      "42/42 [==============================] - 0s 2ms/step - loss: 0.1093 - accuracy: 0.0000e+00 - val_loss: 0.1089 - val_accuracy: 0.0000e+00\n",
      "Epoch 19/100\n",
      "42/42 [==============================] - 0s 2ms/step - loss: 0.1092 - accuracy: 0.0000e+00 - val_loss: 0.1089 - val_accuracy: 0.0000e+00\n",
      "Epoch 20/100\n",
      "42/42 [==============================] - 0s 2ms/step - loss: 0.1092 - accuracy: 0.0000e+00 - val_loss: 0.1089 - val_accuracy: 0.0000e+00\n",
      "Epoch 21/100\n",
      "42/42 [==============================] - 0s 2ms/step - loss: 0.1092 - accuracy: 0.0000e+00 - val_loss: 0.1089 - val_accuracy: 0.0000e+00\n",
      "Epoch 22/100\n",
      "42/42 [==============================] - 0s 2ms/step - loss: 0.1092 - accuracy: 0.0000e+00 - val_loss: 0.1088 - val_accuracy: 0.0000e+00\n",
      "Epoch 23/100\n",
      "42/42 [==============================] - 0s 3ms/step - loss: 0.1092 - accuracy: 0.0000e+00 - val_loss: 0.1088 - val_accuracy: 0.0000e+00\n",
      "Epoch 24/100\n",
      "42/42 [==============================] - 0s 3ms/step - loss: 0.1092 - accuracy: 0.0000e+00 - val_loss: 0.1088 - val_accuracy: 0.0000e+00\n",
      "Epoch 25/100\n",
      "42/42 [==============================] - 0s 3ms/step - loss: 0.1091 - accuracy: 0.0000e+00 - val_loss: 0.1088 - val_accuracy: 0.0000e+00\n",
      "Epoch 26/100\n",
      "42/42 [==============================] - 0s 2ms/step - loss: 0.1091 - accuracy: 0.0000e+00 - val_loss: 0.1088 - val_accuracy: 0.0000e+00\n",
      "Epoch 27/100\n",
      "42/42 [==============================] - 0s 2ms/step - loss: 0.1091 - accuracy: 0.0000e+00 - val_loss: 0.1087 - val_accuracy: 0.0000e+00\n",
      "Epoch 28/100\n",
      "42/42 [==============================] - 0s 2ms/step - loss: 0.1091 - accuracy: 0.0000e+00 - val_loss: 0.1087 - val_accuracy: 0.0000e+00\n",
      "Epoch 29/100\n",
      "42/42 [==============================] - 0s 2ms/step - loss: 0.1091 - accuracy: 0.0000e+00 - val_loss: 0.1087 - val_accuracy: 0.0000e+00\n",
      "Epoch 30/100\n",
      "42/42 [==============================] - 0s 2ms/step - loss: 0.1091 - accuracy: 0.0000e+00 - val_loss: 0.1087 - val_accuracy: 0.0000e+00\n",
      "Epoch 31/100\n",
      "42/42 [==============================] - 0s 2ms/step - loss: 0.1090 - accuracy: 0.0000e+00 - val_loss: 0.1086 - val_accuracy: 0.0000e+00\n",
      "Epoch 32/100\n",
      "42/42 [==============================] - 0s 3ms/step - loss: 0.1090 - accuracy: 0.0000e+00 - val_loss: 0.1086 - val_accuracy: 0.0000e+00\n",
      "Epoch 33/100\n",
      "42/42 [==============================] - 0s 3ms/step - loss: 0.1090 - accuracy: 0.0000e+00 - val_loss: 0.1086 - val_accuracy: 0.0000e+00\n",
      "Epoch 34/100\n",
      "42/42 [==============================] - 0s 3ms/step - loss: 0.1090 - accuracy: 0.0000e+00 - val_loss: 0.1086 - val_accuracy: 0.0000e+00\n",
      "Epoch 35/100\n",
      "42/42 [==============================] - 0s 2ms/step - loss: 0.1090 - accuracy: 0.0000e+00 - val_loss: 0.1085 - val_accuracy: 0.0000e+00\n",
      "Epoch 36/100\n",
      "42/42 [==============================] - 0s 2ms/step - loss: 0.1090 - accuracy: 0.0000e+00 - val_loss: 0.1085 - val_accuracy: 0.0000e+00\n",
      "Epoch 37/100\n",
      "42/42 [==============================] - 0s 2ms/step - loss: 0.1089 - accuracy: 0.0000e+00 - val_loss: 0.1085 - val_accuracy: 0.0000e+00\n",
      "Epoch 38/100\n",
      "42/42 [==============================] - 0s 2ms/step - loss: 0.1089 - accuracy: 0.0000e+00 - val_loss: 0.1085 - val_accuracy: 0.0000e+00\n",
      "Epoch 39/100\n",
      "42/42 [==============================] - 0s 2ms/step - loss: 0.1089 - accuracy: 0.0000e+00 - val_loss: 0.1084 - val_accuracy: 0.0000e+00\n",
      "Epoch 40/100\n",
      "42/42 [==============================] - 0s 2ms/step - loss: 0.1089 - accuracy: 0.0000e+00 - val_loss: 0.1084 - val_accuracy: 0.0000e+00\n",
      "Epoch 41/100\n",
      "42/42 [==============================] - 0s 2ms/step - loss: 0.1089 - accuracy: 0.0000e+00 - val_loss: 0.1084 - val_accuracy: 0.0000e+00\n",
      "Epoch 42/100\n",
      "42/42 [==============================] - 0s 2ms/step - loss: 0.1089 - accuracy: 0.0000e+00 - val_loss: 0.1084 - val_accuracy: 0.0000e+00\n",
      "Epoch 43/100\n",
      "42/42 [==============================] - 0s 2ms/step - loss: 0.1088 - accuracy: 0.0000e+00 - val_loss: 0.1084 - val_accuracy: 0.0000e+00\n",
      "Epoch 44/100\n",
      "42/42 [==============================] - 0s 2ms/step - loss: 0.1088 - accuracy: 0.0000e+00 - val_loss: 0.1083 - val_accuracy: 0.0000e+00\n",
      "Epoch 45/100\n",
      "42/42 [==============================] - 0s 2ms/step - loss: 0.1088 - accuracy: 0.0000e+00 - val_loss: 0.1083 - val_accuracy: 0.0000e+00\n",
      "Epoch 46/100\n",
      "42/42 [==============================] - 0s 2ms/step - loss: 0.1088 - accuracy: 0.0000e+00 - val_loss: 0.1083 - val_accuracy: 0.0000e+00\n",
      "Epoch 47/100\n",
      "42/42 [==============================] - 0s 2ms/step - loss: 0.1088 - accuracy: 0.0000e+00 - val_loss: 0.1083 - val_accuracy: 0.0000e+00\n",
      "Epoch 48/100\n",
      "42/42 [==============================] - 0s 2ms/step - loss: 0.1087 - accuracy: 0.0000e+00 - val_loss: 0.1082 - val_accuracy: 0.0000e+00\n",
      "Epoch 49/100\n",
      "42/42 [==============================] - 0s 2ms/step - loss: 0.1087 - accuracy: 0.0000e+00 - val_loss: 0.1082 - val_accuracy: 0.0000e+00\n",
      "Epoch 50/100\n",
      "42/42 [==============================] - 0s 2ms/step - loss: 0.1087 - accuracy: 0.0000e+00 - val_loss: 0.1082 - val_accuracy: 0.0000e+00\n",
      "Epoch 51/100\n",
      "42/42 [==============================] - 0s 2ms/step - loss: 0.1087 - accuracy: 0.0000e+00 - val_loss: 0.1082 - val_accuracy: 0.0000e+00\n",
      "Epoch 52/100\n",
      "42/42 [==============================] - 0s 2ms/step - loss: 0.1087 - accuracy: 0.0000e+00 - val_loss: 0.1081 - val_accuracy: 0.0000e+00\n",
      "Epoch 53/100\n",
      "42/42 [==============================] - 0s 2ms/step - loss: 0.1087 - accuracy: 0.0000e+00 - val_loss: 0.1081 - val_accuracy: 0.0000e+00\n",
      "Epoch 54/100\n",
      "42/42 [==============================] - 0s 2ms/step - loss: 0.1086 - accuracy: 0.0000e+00 - val_loss: 0.1081 - val_accuracy: 0.0000e+00\n",
      "Epoch 55/100\n",
      "42/42 [==============================] - 0s 2ms/step - loss: 0.1086 - accuracy: 0.0000e+00 - val_loss: 0.1081 - val_accuracy: 0.0000e+00\n",
      "Epoch 56/100\n",
      "42/42 [==============================] - 0s 2ms/step - loss: 0.1086 - accuracy: 0.0000e+00 - val_loss: 0.1080 - val_accuracy: 0.0000e+00\n",
      "Epoch 57/100\n",
      "42/42 [==============================] - 0s 2ms/step - loss: 0.1086 - accuracy: 0.0000e+00 - val_loss: 0.1080 - val_accuracy: 0.0000e+00\n",
      "Epoch 58/100\n",
      "42/42 [==============================] - 0s 2ms/step - loss: 0.1086 - accuracy: 0.0000e+00 - val_loss: 0.1080 - val_accuracy: 0.0000e+00\n",
      "Epoch 59/100\n",
      "42/42 [==============================] - 0s 2ms/step - loss: 0.1085 - accuracy: 0.0000e+00 - val_loss: 0.1079 - val_accuracy: 0.0000e+00\n",
      "Epoch 60/100\n",
      "42/42 [==============================] - 0s 2ms/step - loss: 0.1085 - accuracy: 0.0000e+00 - val_loss: 0.1079 - val_accuracy: 0.0000e+00\n",
      "Epoch 61/100\n",
      "42/42 [==============================] - 0s 2ms/step - loss: 0.1085 - accuracy: 0.0000e+00 - val_loss: 0.1079 - val_accuracy: 0.0000e+00\n",
      "Epoch 62/100\n",
      "42/42 [==============================] - 0s 2ms/step - loss: 0.1085 - accuracy: 0.0000e+00 - val_loss: 0.1079 - val_accuracy: 0.0000e+00\n",
      "Epoch 63/100\n",
      "42/42 [==============================] - 0s 2ms/step - loss: 0.1085 - accuracy: 0.0000e+00 - val_loss: 0.1078 - val_accuracy: 0.0000e+00\n",
      "Epoch 64/100\n",
      "42/42 [==============================] - 0s 2ms/step - loss: 0.1084 - accuracy: 0.0000e+00 - val_loss: 0.1078 - val_accuracy: 0.0000e+00\n",
      "Epoch 65/100\n",
      "42/42 [==============================] - 0s 2ms/step - loss: 0.1084 - accuracy: 0.0000e+00 - val_loss: 0.1078 - val_accuracy: 0.0000e+00\n",
      "Epoch 66/100\n",
      "42/42 [==============================] - 0s 2ms/step - loss: 0.1084 - accuracy: 0.0000e+00 - val_loss: 0.1078 - val_accuracy: 0.0000e+00\n",
      "Epoch 67/100\n",
      "42/42 [==============================] - 0s 2ms/step - loss: 0.1084 - accuracy: 0.0000e+00 - val_loss: 0.1077 - val_accuracy: 0.0000e+00\n",
      "Epoch 68/100\n",
      "42/42 [==============================] - 0s 2ms/step - loss: 0.1084 - accuracy: 0.0000e+00 - val_loss: 0.1077 - val_accuracy: 0.0000e+00\n",
      "Epoch 69/100\n",
      "42/42 [==============================] - 0s 2ms/step - loss: 0.1084 - accuracy: 0.0000e+00 - val_loss: 0.1077 - val_accuracy: 0.0000e+00\n",
      "Epoch 70/100\n",
      "42/42 [==============================] - 0s 2ms/step - loss: 0.1083 - accuracy: 0.0000e+00 - val_loss: 0.1077 - val_accuracy: 0.0000e+00\n",
      "Epoch 71/100\n",
      "42/42 [==============================] - 0s 2ms/step - loss: 0.1083 - accuracy: 0.0000e+00 - val_loss: 0.1076 - val_accuracy: 0.0000e+00\n",
      "Epoch 72/100\n",
      "42/42 [==============================] - 0s 2ms/step - loss: 0.1083 - accuracy: 0.0000e+00 - val_loss: 0.1076 - val_accuracy: 0.0000e+00\n",
      "Epoch 73/100\n",
      "42/42 [==============================] - 0s 2ms/step - loss: 0.1083 - accuracy: 0.0000e+00 - val_loss: 0.1076 - val_accuracy: 0.0000e+00\n",
      "Epoch 74/100\n",
      "42/42 [==============================] - 0s 2ms/step - loss: 0.1083 - accuracy: 0.0000e+00 - val_loss: 0.1076 - val_accuracy: 0.0000e+00\n",
      "Epoch 75/100\n",
      "42/42 [==============================] - 0s 2ms/step - loss: 0.1082 - accuracy: 0.0000e+00 - val_loss: 0.1075 - val_accuracy: 0.0000e+00\n",
      "Epoch 76/100\n",
      "42/42 [==============================] - 0s 2ms/step - loss: 0.1082 - accuracy: 0.0000e+00 - val_loss: 0.1075 - val_accuracy: 0.0000e+00\n",
      "Epoch 77/100\n",
      "42/42 [==============================] - 0s 2ms/step - loss: 0.1082 - accuracy: 0.0000e+00 - val_loss: 0.1075 - val_accuracy: 0.0000e+00\n",
      "Epoch 78/100\n",
      "42/42 [==============================] - 0s 2ms/step - loss: 0.1082 - accuracy: 0.0000e+00 - val_loss: 0.1074 - val_accuracy: 0.0000e+00\n",
      "Epoch 79/100\n",
      "42/42 [==============================] - 0s 2ms/step - loss: 0.1082 - accuracy: 0.0000e+00 - val_loss: 0.1074 - val_accuracy: 0.0000e+00\n",
      "Epoch 80/100\n",
      "42/42 [==============================] - 0s 2ms/step - loss: 0.1081 - accuracy: 0.0000e+00 - val_loss: 0.1074 - val_accuracy: 0.0000e+00\n",
      "Epoch 81/100\n",
      "42/42 [==============================] - 0s 2ms/step - loss: 0.1081 - accuracy: 0.0000e+00 - val_loss: 0.1074 - val_accuracy: 0.0000e+00\n",
      "Epoch 82/100\n",
      "42/42 [==============================] - 0s 2ms/step - loss: 0.1081 - accuracy: 0.0000e+00 - val_loss: 0.1073 - val_accuracy: 0.0000e+00\n",
      "Epoch 83/100\n",
      "42/42 [==============================] - 0s 2ms/step - loss: 0.1081 - accuracy: 0.0000e+00 - val_loss: 0.1073 - val_accuracy: 0.0000e+00\n",
      "Epoch 84/100\n",
      "42/42 [==============================] - 0s 2ms/step - loss: 0.1081 - accuracy: 0.0000e+00 - val_loss: 0.1073 - val_accuracy: 0.0000e+00\n",
      "Epoch 85/100\n",
      "42/42 [==============================] - 0s 2ms/step - loss: 0.1081 - accuracy: 0.0000e+00 - val_loss: 0.1072 - val_accuracy: 0.0000e+00\n",
      "Epoch 86/100\n",
      "42/42 [==============================] - 0s 2ms/step - loss: 0.1080 - accuracy: 0.0000e+00 - val_loss: 0.1072 - val_accuracy: 0.0000e+00\n",
      "Epoch 87/100\n",
      "42/42 [==============================] - 0s 2ms/step - loss: 0.1080 - accuracy: 0.0000e+00 - val_loss: 0.1072 - val_accuracy: 0.0000e+00\n",
      "Epoch 88/100\n",
      "42/42 [==============================] - 0s 2ms/step - loss: 0.1080 - accuracy: 0.0000e+00 - val_loss: 0.1072 - val_accuracy: 0.0000e+00\n",
      "Epoch 89/100\n",
      "42/42 [==============================] - 0s 2ms/step - loss: 0.1080 - accuracy: 0.0000e+00 - val_loss: 0.1071 - val_accuracy: 0.0000e+00\n",
      "Epoch 90/100\n",
      "42/42 [==============================] - 0s 2ms/step - loss: 0.1080 - accuracy: 0.0000e+00 - val_loss: 0.1071 - val_accuracy: 0.0000e+00\n",
      "Epoch 91/100\n",
      "42/42 [==============================] - 0s 2ms/step - loss: 0.1079 - accuracy: 0.0000e+00 - val_loss: 0.1071 - val_accuracy: 0.0000e+00\n",
      "Epoch 92/100\n",
      "42/42 [==============================] - 0s 2ms/step - loss: 0.1079 - accuracy: 0.0000e+00 - val_loss: 0.1070 - val_accuracy: 0.0000e+00\n",
      "Epoch 93/100\n",
      "42/42 [==============================] - 0s 2ms/step - loss: 0.1079 - accuracy: 0.0000e+00 - val_loss: 0.1070 - val_accuracy: 0.0000e+00\n",
      "Epoch 94/100\n",
      "42/42 [==============================] - 0s 2ms/step - loss: 0.1079 - accuracy: 0.0000e+00 - val_loss: 0.1070 - val_accuracy: 0.0000e+00\n",
      "Epoch 95/100\n",
      "42/42 [==============================] - 0s 2ms/step - loss: 0.1079 - accuracy: 0.0000e+00 - val_loss: 0.1070 - val_accuracy: 0.0000e+00\n",
      "Epoch 96/100\n",
      "42/42 [==============================] - 0s 2ms/step - loss: 0.1078 - accuracy: 0.0000e+00 - val_loss: 0.1069 - val_accuracy: 0.0000e+00\n",
      "Epoch 97/100\n",
      "42/42 [==============================] - 0s 2ms/step - loss: 0.1078 - accuracy: 0.0000e+00 - val_loss: 0.1069 - val_accuracy: 0.0000e+00\n",
      "Epoch 98/100\n",
      "42/42 [==============================] - 0s 2ms/step - loss: 0.1078 - accuracy: 0.0000e+00 - val_loss: 0.1069 - val_accuracy: 0.0000e+00\n",
      "Epoch 99/100\n",
      "42/42 [==============================] - 0s 2ms/step - loss: 0.1078 - accuracy: 0.0000e+00 - val_loss: 0.1069 - val_accuracy: 0.0000e+00\n",
      "Epoch 100/100\n",
      "42/42 [==============================] - 0s 2ms/step - loss: 0.1078 - accuracy: 0.0000e+00 - val_loss: 0.1068 - val_accuracy: 0.0000e+00\n"
     ]
    }
   ],
   "source": [
    "session = model.fit(\n",
    "    train_x,\n",
    "    train_y,\n",
    "    batch_size=50,\n",
    "    epochs=100, \n",
    "    validation_data=(val_x, val_y),\n",
    ")"
   ]
  },
  {
   "cell_type": "code",
   "execution_count": 155,
   "metadata": {},
   "outputs": [
    {
     "name": "stdout",
     "output_type": "stream",
     "text": [
      "16/16 [==============================] - 0s 1ms/step - loss: 0.1085 - accuracy: 0.0000e+00\n",
      "test loss, test acc: [0.10850250720977783, 0.0]\n"
     ]
    }
   ],
   "source": [
    "results = model.evaluate(test_x, test_y, batch_size=100)\n",
    "print(\"test loss, test acc:\", results)"
   ]
  },
  {
   "cell_type": "code",
   "execution_count": 156,
   "metadata": {},
   "outputs": [
    {
     "name": "stdout",
     "output_type": "stream",
     "text": [
      "47/47 [==============================] - 0s 2ms/step\n"
     ]
    },
    {
     "data": {
      "text/plain": [
       "array([[0.10918082, 0.10766008, 0.12684911, ..., 0.13656473, 0.12531227,\n",
       "        0.11564217],\n",
       "       [0.10344737, 0.10675892, 0.13009146, ..., 0.14070375, 0.11677694,\n",
       "        0.10968083],\n",
       "       [0.0960683 , 0.10888436, 0.13669746, ..., 0.14202352, 0.11831487,\n",
       "        0.1264271 ],\n",
       "       ...,\n",
       "       [0.11444746, 0.11517481, 0.12343445, ..., 0.12678312, 0.11092293,\n",
       "        0.10525072],\n",
       "       [0.11333883, 0.11276842, 0.12364338, ..., 0.1293679 , 0.1141069 ,\n",
       "        0.10684897],\n",
       "       [0.11282009, 0.11560916, 0.12433066, ..., 0.12624773, 0.10990389,\n",
       "        0.10779972]], dtype=float32)"
      ]
     },
     "execution_count": 156,
     "metadata": {},
     "output_type": "execute_result"
    }
   ],
   "source": [
    "predictions = model.predict(test_x)\n",
    "predictions"
   ]
  },
  {
   "cell_type": "code",
   "execution_count": 157,
   "metadata": {},
   "outputs": [],
   "source": [
    "direction_success = 0\n",
    "for i, pred in enumerate(predictions):\n",
    "    pred_index = np.argmax(pred)\n",
    "    test_index = np.argmax(test_y[i])\n",
    "    if pred_index <= 3  and test_index <= 3:\n",
    "        direction_success += 1\n",
    "    elif pred_index > 3 and test_index > 3:\n",
    "        direction_success += 1"
   ]
  },
  {
   "cell_type": "code",
   "execution_count": 158,
   "metadata": {},
   "outputs": [
    {
     "data": {
      "text/plain": [
       "0.4630246502331779"
      ]
     },
     "execution_count": 158,
     "metadata": {},
     "output_type": "execute_result"
    }
   ],
   "source": [
    "direction_success / len(test_y)"
   ]
  },
  {
   "cell_type": "code",
   "execution_count": 159,
   "metadata": {},
   "outputs": [],
   "source": [
    "tick_success = 0\n",
    "histogram = [0,0,0,0,0,0,0,0]\n",
    "for i, pred in enumerate(predictions):\n",
    "    pred_index = np.argmax(pred)\n",
    "    test_index = np.argmax(test_y[i])\n",
    "    histogram[test_index] = histogram[test_index] + 1\n",
    "    if pred_index == test_index:\n",
    "        tick_success += 1"
   ]
  },
  {
   "cell_type": "code",
   "execution_count": 160,
   "metadata": {},
   "outputs": [
    {
     "data": {
      "text/plain": [
       "0.15656229180546302"
      ]
     },
     "execution_count": 160,
     "metadata": {},
     "output_type": "execute_result"
    }
   ],
   "source": [
    "tick_success / len(test_y)"
   ]
  },
  {
   "cell_type": "code",
   "execution_count": 161,
   "metadata": {},
   "outputs": [
    {
     "data": {
      "text/plain": [
       "[159, 124, 172, 248, 258, 286, 197, 57]"
      ]
     },
     "execution_count": 161,
     "metadata": {},
     "output_type": "execute_result"
    }
   ],
   "source": [
    "histogram"
   ]
  },
  {
   "cell_type": "code",
   "execution_count": 104,
   "metadata": {},
   "outputs": [
    {
     "data": {
      "text/plain": [
       "array([[0.46318364, 0.04864341, 0.09508181, ..., 0.05794706, 0.0937846 ,\n",
       "        0.08781937],\n",
       "       [0.49740854, 0.04120875, 0.09176078, ..., 0.04964045, 0.09547868,\n",
       "        0.08162538],\n",
       "       [0.44819853, 0.04854925, 0.09113719, ..., 0.06518588, 0.09553953,\n",
       "        0.08707712],\n",
       "       ...,\n",
       "       [0.4517586 , 0.05240608, 0.09598842, ..., 0.06360875, 0.08767015,\n",
       "        0.08830915],\n",
       "       [0.44118604, 0.05429742, 0.09633449, ..., 0.0649247 , 0.08803296,\n",
       "        0.09090717],\n",
       "       [0.45957834, 0.04998467, 0.09388395, ..., 0.06248721, 0.08869751,\n",
       "        0.08669905]], dtype=float32)"
      ]
     },
     "execution_count": 104,
     "metadata": {},
     "output_type": "execute_result"
    }
   ],
   "source": [
    "predictions"
   ]
  },
  {
   "cell_type": "code",
   "execution_count": null,
   "metadata": {},
   "outputs": [],
   "source": []
  }
 ],
 "metadata": {
  "interpreter": {
   "hash": "aee094fbcebf3723d246997847463d458ed3326061a0ee2e7aa600f421b4f224"
  },
  "kernelspec": {
   "display_name": "Python 3.7.4 64-bit ('base': conda)",
   "language": "python",
   "name": "python3"
  },
  "language_info": {
   "codemirror_mode": {
    "name": "ipython",
    "version": 3
   },
   "file_extension": ".py",
   "mimetype": "text/x-python",
   "name": "python",
   "nbconvert_exporter": "python",
   "pygments_lexer": "ipython3",
   "version": "3.7.4"
  },
  "orig_nbformat": 4
 },
 "nbformat": 4,
 "nbformat_minor": 2
}
